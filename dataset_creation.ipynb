{
 "cells": [
  {
   "cell_type": "code",
   "execution_count": 1,
   "metadata": {},
   "outputs": [
    {
     "name": "stdout",
     "output_type": "stream",
     "text": [
      "/mnt/d/GeMorph/FaceGen/Neural3DMM/root\n",
      "/mnt/d/GeMorph/FaceGen/Neural3DMM/root/COMA\n"
     ]
    },
    {
     "name": "stderr",
     "output_type": "stream",
     "text": [
      "/mnt/d/GeMorph/FaceGen/Neural3DMM/my_venv/lib/python3.12/site-packages/IPython/core/magics/osm.py:417: UserWarning: This is now an optional IPython functionality, setting dhist requires you to install the `pickleshare` library.\n",
      "  self.shell.db['dhist'] = compress_dhist(dhist)[-100:]\n"
     ]
    },
    {
     "name": "stdout",
     "output_type": "stream",
     "text": [
      "/mnt/d/GeMorph/FaceGen/Neural3DMM/root/COMA/preprocessed\n"
     ]
    }
   ],
   "source": [
    "!mkdir root\n",
    "%cd root\n",
    "!mkdir COMA\n",
    "%cd COMA\n",
    "!mkdir template\n",
    "!mkdir preprocessed\n",
    "\n",
    "%cd preprocessed\n",
    "\n"
   ]
  },
  {
   "cell_type": "code",
   "execution_count": 3,
   "metadata": {},
   "outputs": [
    {
     "name": "stdout",
     "output_type": "stream",
     "text": [
      "Loading meshes from D:\\GeMorph\\FaceBase SymSmooth\\3dfn_final_symmsmooaligned...\n",
      "Saved train.npy with shape (1944, 7160, 3)\n",
      "Saved test.npy with shape (487, 7160, 3)\n"
     ]
    }
   ],
   "source": [
    "import os\n",
    "import numpy as np\n",
    "from pathlib import Path\n",
    "from sklearn.model_selection import train_test_split\n",
    "\n",
    "def load_obj(file_path):\n",
    "    \"\"\"Reads an .obj file and extracts the vertices (x, y, z)\"\"\"\n",
    "    vertices = []\n",
    "    with open(file_path, 'r') as f:\n",
    "        for line in f:\n",
    "            if line.startswith('v '):  # 'v' lines indicate vertices\n",
    "                parts = line.split()\n",
    "                x, y, z = map(float, parts[1:4])\n",
    "                vertices.append([x, y, z])\n",
    "    return np.array(vertices)\n",
    "\n",
    "def create_train_test_npy(obj_folder, train_npy, test_npy, test_size=0.2):\n",
    "    \"\"\"Creates train.npy and test.npy files from the .obj files\"\"\"\n",
    "    mesh_list = []\n",
    "    \n",
    "    # Iterate through all .obj files in the folder\n",
    "    print(f\"Loading meshes from {obj_folder}...\")\n",
    "    for obj_file in os.listdir(obj_folder):\n",
    "        if obj_file.endswith(\".obj\"):\n",
    "            obj_path = os.path.join(obj_folder, obj_file)\n",
    "            \n",
    "            # Load the vertices from the .obj file\n",
    "            vertices = load_obj(obj_path)\n",
    "            \n",
    "            # Append vertices to the list of meshes\n",
    "            mesh_list.append(vertices)\n",
    "    \n",
    "    # Convert the list of meshes to a NumPy array\n",
    "    meshes = np.array(mesh_list, dtype=np.float32)  # (number_meshes, number_vertices, 3)\n",
    "    \n",
    "    # Split the meshes into training and testing datasets\n",
    "    train_data, test_data = train_test_split(meshes, test_size=test_size, random_state=42)\n",
    "    \n",
    "    # Save the train and test data as .npy files\n",
    "    np.save(train_npy, train_data)\n",
    "    np.save(test_npy, test_data)\n",
    "    \n",
    "    print(f\"Saved {train_npy} with shape {train_data.shape}\")\n",
    "    print(f\"Saved {test_npy} with shape {test_data.shape}\")\n",
    "\n",
    "if __name__ == \"__main__\":\n",
    "    # Define input/output directories\n",
    "    obj_folder = r\"D:\\GeMorph\\FaceBase SymSmooth\\3dfn_final_symmsmooaligned\" \n",
    "    train_npy = \"train.npy\"  \n",
    "    test_npy = \"test.npy\"    \n",
    "\n",
    "    # Create train.npy and test.npy\n",
    "    create_train_test_npy(obj_folder, train_npy, test_npy)\n"
   ]
  },
  {
   "cell_type": "code",
   "execution_count": null,
   "metadata": {},
   "outputs": [],
   "source": []
  }
 ],
 "metadata": {
  "kernelspec": {
   "display_name": "my_venv",
   "language": "python",
   "name": "python3"
  },
  "language_info": {
   "codemirror_mode": {
    "name": "ipython",
    "version": 3
   },
   "file_extension": ".py",
   "mimetype": "text/x-python",
   "name": "python",
   "nbconvert_exporter": "python",
   "pygments_lexer": "ipython3",
   "version": "3.12.3"
  }
 },
 "nbformat": 4,
 "nbformat_minor": 2
}
